{
 "cells": [
  {
   "cell_type": "code",
   "execution_count": null,
   "id": "de44ba83-0a19-48fd-b69a-b236da95dae0",
   "metadata": {},
   "outputs": [],
   "source": [
    "# IMPORT LIBRIRARIES. USING A 3 MODELS: LINEAR REGRESSION, LASSO AND RIDGE. DATASET - CALIFORNIA HOUSING."
   ]
  },
  {
   "cell_type": "code",
   "execution_count": 8,
   "id": "0484af2b-f2d6-41b5-ae08-5ee58a9a6fb3",
   "metadata": {
    "scrolled": true
   },
   "outputs": [],
   "source": [
    "from sklearn.linear_model import LinearRegression\n",
    "from sklearn.linear_model import Lasso\n",
    "from sklearn.linear_model import Ridge\n",
    "from sklearn.model_selection import train_test_split\n",
    "from sklearn.datasets import fetch_california_housing"
   ]
  },
  {
   "cell_type": "code",
   "execution_count": null,
   "id": "09be2c9e-fd42-4888-8653-475a8f611605",
   "metadata": {
    "scrolled": true
   },
   "outputs": [],
   "source": [
    "dataset = fetch_california_housing()"
   ]
  },
  {
   "cell_type": "code",
   "execution_count": null,
   "id": "a8c8ecb6-9380-4bdc-bea1-2aa3bab31fdb",
   "metadata": {},
   "outputs": [],
   "source": [
    "# SPLIT DATASET ON TRAIN AND TEST"
   ]
  },
  {
   "cell_type": "code",
   "execution_count": 10,
   "id": "db2c014e-8a72-44e5-ad8d-514f74941f74",
   "metadata": {},
   "outputs": [],
   "source": [
    "X_train, X_test, y_train, y_test = train_test_split(dataset['data'], dataset['target'], random_state = 0)"
   ]
  },
  {
   "cell_type": "code",
   "execution_count": null,
   "id": "a2b7b4fe-f9e3-4b96-b2cc-aaa8ff2ce772",
   "metadata": {},
   "outputs": [],
   "source": [
    "# FIT MODELS"
   ]
  },
  {
   "cell_type": "code",
   "execution_count": 21,
   "id": "62bf004f-55a8-404f-9066-0afda2b24bea",
   "metadata": {},
   "outputs": [
    {
     "data": {
      "text/html": [
       "<style>#sk-container-id-4 {color: black;background-color: white;}#sk-container-id-4 pre{padding: 0;}#sk-container-id-4 div.sk-toggleable {background-color: white;}#sk-container-id-4 label.sk-toggleable__label {cursor: pointer;display: block;width: 100%;margin-bottom: 0;padding: 0.3em;box-sizing: border-box;text-align: center;}#sk-container-id-4 label.sk-toggleable__label-arrow:before {content: \"▸\";float: left;margin-right: 0.25em;color: #696969;}#sk-container-id-4 label.sk-toggleable__label-arrow:hover:before {color: black;}#sk-container-id-4 div.sk-estimator:hover label.sk-toggleable__label-arrow:before {color: black;}#sk-container-id-4 div.sk-toggleable__content {max-height: 0;max-width: 0;overflow: hidden;text-align: left;background-color: #f0f8ff;}#sk-container-id-4 div.sk-toggleable__content pre {margin: 0.2em;color: black;border-radius: 0.25em;background-color: #f0f8ff;}#sk-container-id-4 input.sk-toggleable__control:checked~div.sk-toggleable__content {max-height: 200px;max-width: 100%;overflow: auto;}#sk-container-id-4 input.sk-toggleable__control:checked~label.sk-toggleable__label-arrow:before {content: \"▾\";}#sk-container-id-4 div.sk-estimator input.sk-toggleable__control:checked~label.sk-toggleable__label {background-color: #d4ebff;}#sk-container-id-4 div.sk-label input.sk-toggleable__control:checked~label.sk-toggleable__label {background-color: #d4ebff;}#sk-container-id-4 input.sk-hidden--visually {border: 0;clip: rect(1px 1px 1px 1px);clip: rect(1px, 1px, 1px, 1px);height: 1px;margin: -1px;overflow: hidden;padding: 0;position: absolute;width: 1px;}#sk-container-id-4 div.sk-estimator {font-family: monospace;background-color: #f0f8ff;border: 1px dotted black;border-radius: 0.25em;box-sizing: border-box;margin-bottom: 0.5em;}#sk-container-id-4 div.sk-estimator:hover {background-color: #d4ebff;}#sk-container-id-4 div.sk-parallel-item::after {content: \"\";width: 100%;border-bottom: 1px solid gray;flex-grow: 1;}#sk-container-id-4 div.sk-label:hover label.sk-toggleable__label {background-color: #d4ebff;}#sk-container-id-4 div.sk-serial::before {content: \"\";position: absolute;border-left: 1px solid gray;box-sizing: border-box;top: 0;bottom: 0;left: 50%;z-index: 0;}#sk-container-id-4 div.sk-serial {display: flex;flex-direction: column;align-items: center;background-color: white;padding-right: 0.2em;padding-left: 0.2em;position: relative;}#sk-container-id-4 div.sk-item {position: relative;z-index: 1;}#sk-container-id-4 div.sk-parallel {display: flex;align-items: stretch;justify-content: center;background-color: white;position: relative;}#sk-container-id-4 div.sk-item::before, #sk-container-id-4 div.sk-parallel-item::before {content: \"\";position: absolute;border-left: 1px solid gray;box-sizing: border-box;top: 0;bottom: 0;left: 50%;z-index: -1;}#sk-container-id-4 div.sk-parallel-item {display: flex;flex-direction: column;z-index: 1;position: relative;background-color: white;}#sk-container-id-4 div.sk-parallel-item:first-child::after {align-self: flex-end;width: 50%;}#sk-container-id-4 div.sk-parallel-item:last-child::after {align-self: flex-start;width: 50%;}#sk-container-id-4 div.sk-parallel-item:only-child::after {width: 0;}#sk-container-id-4 div.sk-dashed-wrapped {border: 1px dashed gray;margin: 0 0.4em 0.5em 0.4em;box-sizing: border-box;padding-bottom: 0.4em;background-color: white;}#sk-container-id-4 div.sk-label label {font-family: monospace;font-weight: bold;display: inline-block;line-height: 1.2em;}#sk-container-id-4 div.sk-label-container {text-align: center;}#sk-container-id-4 div.sk-container {/* jupyter's `normalize.less` sets `[hidden] { display: none; }` but bootstrap.min.css set `[hidden] { display: none !important; }` so we also need the `!important` here to be able to override the default hidden behavior on the sphinx rendered scikit-learn.org. See: https://github.com/scikit-learn/scikit-learn/issues/21755 */display: inline-block !important;position: relative;}#sk-container-id-4 div.sk-text-repr-fallback {display: none;}</style><div id=\"sk-container-id-4\" class=\"sk-top-container\"><div class=\"sk-text-repr-fallback\"><pre>Lasso()</pre><b>In a Jupyter environment, please rerun this cell to show the HTML representation or trust the notebook. <br />On GitHub, the HTML representation is unable to render, please try loading this page with nbviewer.org.</b></div><div class=\"sk-container\" hidden><div class=\"sk-item\"><div class=\"sk-estimator sk-toggleable\"><input class=\"sk-toggleable__control sk-hidden--visually\" id=\"sk-estimator-id-4\" type=\"checkbox\" checked><label for=\"sk-estimator-id-4\" class=\"sk-toggleable__label sk-toggleable__label-arrow\">Lasso</label><div class=\"sk-toggleable__content\"><pre>Lasso()</pre></div></div></div></div></div>"
      ],
      "text/plain": [
       "Lasso()"
      ]
     },
     "execution_count": 21,
     "metadata": {},
     "output_type": "execute_result"
    }
   ],
   "source": [
    "linModel = LinearRegression() #linear regerssion\n",
    "linModel.fit(X_train, y_train)\n",
    "\n",
    "ridgeModel = Ridge() # ridge \n",
    "ridgeModel.fit(X_train, y_train)\n",
    "\n",
    "lassoModel = Lasso() #lasso\n",
    "lassoModel.fit(X_train, y_train)"
   ]
  },
  {
   "cell_type": "code",
   "execution_count": null,
   "id": "34e136e4-4146-471a-84b1-b12d5b1a8e3c",
   "metadata": {},
   "outputs": [],
   "source": [
    "# SCORES OF MODELS"
   ]
  },
  {
   "cell_type": "code",
   "execution_count": 22,
   "id": "aa437d01-c453-4837-bc24-50002387c708",
   "metadata": {},
   "outputs": [
    {
     "name": "stdout",
     "output_type": "stream",
     "text": [
      "train score for linear model: 0.6109633715458154, test score for linear model: 0.5911695436410469\n",
      "train score for ridge model: 0.610963329310342, test score for ridge model: 0.591161593074793\n",
      "train score for linear model: 0.2923162004273605, test score for linear model: 0.28490402733386166\n"
     ]
    }
   ],
   "source": [
    "linModel_train_score = linModel.score(X_train, y_train)\n",
    "linModel_test_score = linModel.score(X_test, y_test)\n",
    "print(f'train score for linear model: {linModel_train_score}, test score for linear model: {linModel_test_score}')\n",
    "\n",
    "ridgeModel_train_score = ridgeModel.score(X_train, y_train)\n",
    "ridgeModel_test_score = ridgeModel.score(X_test, y_test)\n",
    "print(f'train score for ridge model: {ridgeModel_train_score}, test score for ridge model: {ridgeModel_test_score}')\n",
    "\n",
    "lassoModel_train_score = lassoModel.score(X_train, y_train)\n",
    "lassoModel_test_score = lassoModel.score(X_test, y_test)\n",
    "print(f'train score for linear model: {lassoModel_train_score}, test score for linear model: {lassoModel_test_score}')\n"
   ]
  },
  {
   "cell_type": "code",
   "execution_count": 23,
   "id": "61a0fcd3-83e1-43fe-a65d-d14ba779f514",
   "metadata": {},
   "outputs": [],
   "source": [
    "# EXPERIMENTS WITH MODELS AND SCORES"
   ]
  },
  {
   "cell_type": "code",
   "execution_count": 27,
   "id": "fa9a56e9-640f-4bdc-94b5-332b1364e401",
   "metadata": {},
   "outputs": [
    {
     "data": {
      "text/html": [
       "<style>#sk-container-id-7 {color: black;background-color: white;}#sk-container-id-7 pre{padding: 0;}#sk-container-id-7 div.sk-toggleable {background-color: white;}#sk-container-id-7 label.sk-toggleable__label {cursor: pointer;display: block;width: 100%;margin-bottom: 0;padding: 0.3em;box-sizing: border-box;text-align: center;}#sk-container-id-7 label.sk-toggleable__label-arrow:before {content: \"▸\";float: left;margin-right: 0.25em;color: #696969;}#sk-container-id-7 label.sk-toggleable__label-arrow:hover:before {color: black;}#sk-container-id-7 div.sk-estimator:hover label.sk-toggleable__label-arrow:before {color: black;}#sk-container-id-7 div.sk-toggleable__content {max-height: 0;max-width: 0;overflow: hidden;text-align: left;background-color: #f0f8ff;}#sk-container-id-7 div.sk-toggleable__content pre {margin: 0.2em;color: black;border-radius: 0.25em;background-color: #f0f8ff;}#sk-container-id-7 input.sk-toggleable__control:checked~div.sk-toggleable__content {max-height: 200px;max-width: 100%;overflow: auto;}#sk-container-id-7 input.sk-toggleable__control:checked~label.sk-toggleable__label-arrow:before {content: \"▾\";}#sk-container-id-7 div.sk-estimator input.sk-toggleable__control:checked~label.sk-toggleable__label {background-color: #d4ebff;}#sk-container-id-7 div.sk-label input.sk-toggleable__control:checked~label.sk-toggleable__label {background-color: #d4ebff;}#sk-container-id-7 input.sk-hidden--visually {border: 0;clip: rect(1px 1px 1px 1px);clip: rect(1px, 1px, 1px, 1px);height: 1px;margin: -1px;overflow: hidden;padding: 0;position: absolute;width: 1px;}#sk-container-id-7 div.sk-estimator {font-family: monospace;background-color: #f0f8ff;border: 1px dotted black;border-radius: 0.25em;box-sizing: border-box;margin-bottom: 0.5em;}#sk-container-id-7 div.sk-estimator:hover {background-color: #d4ebff;}#sk-container-id-7 div.sk-parallel-item::after {content: \"\";width: 100%;border-bottom: 1px solid gray;flex-grow: 1;}#sk-container-id-7 div.sk-label:hover label.sk-toggleable__label {background-color: #d4ebff;}#sk-container-id-7 div.sk-serial::before {content: \"\";position: absolute;border-left: 1px solid gray;box-sizing: border-box;top: 0;bottom: 0;left: 50%;z-index: 0;}#sk-container-id-7 div.sk-serial {display: flex;flex-direction: column;align-items: center;background-color: white;padding-right: 0.2em;padding-left: 0.2em;position: relative;}#sk-container-id-7 div.sk-item {position: relative;z-index: 1;}#sk-container-id-7 div.sk-parallel {display: flex;align-items: stretch;justify-content: center;background-color: white;position: relative;}#sk-container-id-7 div.sk-item::before, #sk-container-id-7 div.sk-parallel-item::before {content: \"\";position: absolute;border-left: 1px solid gray;box-sizing: border-box;top: 0;bottom: 0;left: 50%;z-index: -1;}#sk-container-id-7 div.sk-parallel-item {display: flex;flex-direction: column;z-index: 1;position: relative;background-color: white;}#sk-container-id-7 div.sk-parallel-item:first-child::after {align-self: flex-end;width: 50%;}#sk-container-id-7 div.sk-parallel-item:last-child::after {align-self: flex-start;width: 50%;}#sk-container-id-7 div.sk-parallel-item:only-child::after {width: 0;}#sk-container-id-7 div.sk-dashed-wrapped {border: 1px dashed gray;margin: 0 0.4em 0.5em 0.4em;box-sizing: border-box;padding-bottom: 0.4em;background-color: white;}#sk-container-id-7 div.sk-label label {font-family: monospace;font-weight: bold;display: inline-block;line-height: 1.2em;}#sk-container-id-7 div.sk-label-container {text-align: center;}#sk-container-id-7 div.sk-container {/* jupyter's `normalize.less` sets `[hidden] { display: none; }` but bootstrap.min.css set `[hidden] { display: none !important; }` so we also need the `!important` here to be able to override the default hidden behavior on the sphinx rendered scikit-learn.org. See: https://github.com/scikit-learn/scikit-learn/issues/21755 */display: inline-block !important;position: relative;}#sk-container-id-7 div.sk-text-repr-fallback {display: none;}</style><div id=\"sk-container-id-7\" class=\"sk-top-container\"><div class=\"sk-text-repr-fallback\"><pre>Lasso(alpha=100)</pre><b>In a Jupyter environment, please rerun this cell to show the HTML representation or trust the notebook. <br />On GitHub, the HTML representation is unable to render, please try loading this page with nbviewer.org.</b></div><div class=\"sk-container\" hidden><div class=\"sk-item\"><div class=\"sk-estimator sk-toggleable\"><input class=\"sk-toggleable__control sk-hidden--visually\" id=\"sk-estimator-id-7\" type=\"checkbox\" checked><label for=\"sk-estimator-id-7\" class=\"sk-toggleable__label sk-toggleable__label-arrow\">Lasso</label><div class=\"sk-toggleable__content\"><pre>Lasso(alpha=100)</pre></div></div></div></div></div>"
      ],
      "text/plain": [
       "Lasso(alpha=100)"
      ]
     },
     "execution_count": 27,
     "metadata": {},
     "output_type": "execute_result"
    }
   ],
   "source": [
    "ridgeModel001 = Ridge(alpha=0.01) # ridge with alpha = 0.01\n",
    "ridgeModel001.fit(X_train, y_train)\n",
    "\n",
    "ridgeModel01 = Ridge(alpha=0.1) # ridge with alpha = 0.1\n",
    "ridgeModel01.fit(X_train, y_train)\n",
    "\n",
    "ridgeModel10 = Ridge(alpha=10) # ridge with alpha = 10\n",
    "ridgeModel10.fit(X_train, y_train)\n",
    "\n",
    "ridgeModel100 = Ridge(alpha=100) # ridge with alpha = 100\n",
    "ridgeModel100.fit(X_train, y_train)\n",
    "\n",
    "lassoModel001 = Lasso(alpha=0.01) #lasso with alpha = 0.01\n",
    "lassoModel001.fit(X_train, y_train)\n",
    "\n",
    "lassoModel01= Lasso(alpha=0.1) #lasso with alpha = 0.1\n",
    "lassoModel01.fit(X_train, y_train)\n",
    "\n",
    "lassoModel10 = Lasso(alpha=10) #lasso with alpha = 10\n",
    "lassoModel10.fit(X_train, y_train)\n",
    "\n",
    "lassoModel100 = Lasso(alpha=100) #lasso with alpha = 100\n",
    "lassoModel100.fit(X_train, y_train)"
   ]
  },
  {
   "cell_type": "code",
   "execution_count": 28,
   "id": "976db3a3-2f49-4b63-9331-ac8cec30ffef",
   "metadata": {},
   "outputs": [],
   "source": [
    "ridgeModel001train = ridgeModel001.score(X_train, y_train)\n",
    "ridgeModel001test = ridgeModel001.score(X_test, y_test)\n",
    "\n",
    "ridgeModel01train = ridgeModel01.score(X_train, y_train)\n",
    "ridgeModel01test = ridgeModel01.score(X_test, y_test)\n",
    "\n",
    "ridgeModel10train = ridgeModel10.score(X_train, y_train)\n",
    "ridgeModel10test = ridgeModel10.score(X_test, y_test)\n",
    "\n",
    "ridgeModel100train = ridgeModel100.score(X_train, y_train)\n",
    "ridgeModel100test = ridgeModel100.score(X_test, y_test)"
   ]
  },
  {
   "cell_type": "code",
   "execution_count": 30,
   "id": "505a5e2e-703e-40d8-b37e-ef841ec39289",
   "metadata": {},
   "outputs": [
    {
     "name": "stdout",
     "output_type": "stream",
     "text": [
      "ridge with: alpha = 0.01 - [train: 0.6109633715415761 and test: 0.5911694643825318], [alpha = 0.1 - train: 0.6109633711220382 and test: 0.5911687508302499], [alpha = 10 - train: 0.6109592860146298 and test: 0.5910878938076747], [alpha = 100 - train: 0.6106599094227467 and test: 0.5902139854822975]\n"
     ]
    }
   ],
   "source": [
    "print(f'ridge with: alpha = 0.01 - [train: {ridgeModel001train} and test: {ridgeModel001test}], [alpha = 0.1 - train: {ridgeModel01train} and test: {ridgeModel01test}], [alpha = 10 - train: {ridgeModel10train} and test: {ridgeModel10test}], [alpha = 100 - train: {ridgeModel100train} and test: {ridgeModel100test}]')"
   ]
  },
  {
   "cell_type": "code",
   "execution_count": 32,
   "id": "93d01062-2b1a-4f0f-b6c8-a81aab7eefc1",
   "metadata": {},
   "outputs": [],
   "source": [
    "lassoModel001train = lassoModel001.score(X_train, y_train)\n",
    "lassoModel001test = lassoModel001.score(X_test, y_test)\n",
    "\n",
    "lassoModel01train = lassoModel01.score(X_train, y_train)\n",
    "lassoModel01test = lassoModel01.score(X_test, y_test)\n",
    "\n",
    "lassoModel10train = lassoModel10.score(X_train, y_train)\n",
    "lassoModel10test = lassoModel10.score(X_test, y_test)\n",
    "\n",
    "lassoModel100train = lassoModel100.score(X_train, y_train)\n",
    "lassoModel100test = lassoModel100.score(X_test, y_test)"
   ]
  },
  {
   "cell_type": "code",
   "execution_count": 33,
   "id": "ea224aad-0fc5-4b16-9670-fa58144bf6dc",
   "metadata": {},
   "outputs": [
    {
     "name": "stdout",
     "output_type": "stream",
     "text": [
      "lasso with: alpha = 0.01 - [train: 0.6072415448334423 and test: 0.5855078217958594], [alpha = 0.1 - train: 0.5504053010373247 and test: 0.5257906843590098], [alpha = 10 - train: 0.0005987782521240659 and test: 4.011756745225803e-05], [alpha = 100 - train: 0.0 and test: -0.0004092193772518016]\n"
     ]
    }
   ],
   "source": [
    "print(f'lasso with: alpha = 0.01 - [train: {lassoModel001train} and test: {lassoModel001test}], [alpha = 0.1 - train: {lassoModel01train} and test: {lassoModel01test}], [alpha = 10 - train: {lassoModel10train} and test: {lassoModel10test}], [alpha = 100 - train: {lassoModel100train} and test: {lassoModel100test}]')"
   ]
  },
  {
   "cell_type": "code",
   "execution_count": null,
   "id": "fc79d217-0f0e-4759-8c56-77493cfa67dd",
   "metadata": {},
   "outputs": [],
   "source": []
  }
 ],
 "metadata": {
  "kernelspec": {
   "display_name": "Python 3 (ipykernel)",
   "language": "python",
   "name": "python3"
  },
  "language_info": {
   "codemirror_mode": {
    "name": "ipython",
    "version": 3
   },
   "file_extension": ".py",
   "mimetype": "text/x-python",
   "name": "python",
   "nbconvert_exporter": "python",
   "pygments_lexer": "ipython3",
   "version": "3.11.7"
  }
 },
 "nbformat": 4,
 "nbformat_minor": 5
}
