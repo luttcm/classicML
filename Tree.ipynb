{
  "nbformat": 4,
  "nbformat_minor": 0,
  "metadata": {
    "colab": {
      "provenance": []
    },
    "kernelspec": {
      "name": "python3",
      "display_name": "Python 3"
    },
    "language_info": {
      "name": "python"
    }
  },
  "cells": [
    {
      "cell_type": "markdown",
      "source": [
        "#IMPORT LIBRARIES AND DATASET"
      ],
      "metadata": {
        "id": "2EIKbrIrZCui"
      }
    },
    {
      "cell_type": "code",
      "execution_count": 3,
      "metadata": {
        "id": "HHfZfuWPQkym"
      },
      "outputs": [],
      "source": [
        "from sklearn.tree import DecisionTreeClassifier\n",
        "from sklearn.datasets import load_breast_cancer\n",
        "from sklearn.model_selection import train_test_split"
      ]
    },
    {
      "cell_type": "code",
      "source": [
        "cancer = load_breast_cancer()\n",
        "X_train, X_test, y_train, y_test = train_test_split(cancer['data'], cancer['target'], stratify=cancer['target'], random_state=42)"
      ],
      "metadata": {
        "id": "TUgE-mtiXTcG"
      },
      "execution_count": 12,
      "outputs": []
    },
    {
      "cell_type": "markdown",
      "source": [
        "#TRAIN MODEL WITHOUT LIMITS"
      ],
      "metadata": {
        "id": "XXg7W6B1ZMTl"
      }
    },
    {
      "cell_type": "code",
      "source": [
        "treeModel = DecisionTreeClassifier()\n",
        "treeModel.fit(X_train, y_train)\n",
        "score1 = treeModel.score(X_train, y_train)\n",
        "score2 = treeModel.score(X_test, y_test)"
      ],
      "metadata": {
        "id": "ZVeHOd2QXN1R"
      },
      "execution_count": 13,
      "outputs": []
    },
    {
      "cell_type": "code",
      "source": [
        "print(score1, score2, sep='\\n')"
      ],
      "metadata": {
        "colab": {
          "base_uri": "https://localhost:8080/"
        },
        "id": "oajAS8QsYkcK",
        "outputId": "a8b15ed7-7f7f-45fb-be51-ee63cd269f7b"
      },
      "execution_count": 14,
      "outputs": [
        {
          "output_type": "stream",
          "name": "stdout",
          "text": [
            "1.0\n",
            "0.9300699300699301\n"
          ]
        }
      ]
    },
    {
      "cell_type": "markdown",
      "source": [
        "THIS MODEL IS OVERFITTING, NEXT STEP - ADDING A LIMIT FOR THIS MODEL"
      ],
      "metadata": {
        "id": "1_hUZRUBZXJQ"
      }
    },
    {
      "cell_type": "code",
      "source": [
        "limits = [1, 3, 5, 7, 9, 10, 4]\n",
        "for i in range(len(limits)):\n",
        "  treeModellimit = DecisionTreeClassifier(max_depth=limits[i], random_state=0)\n",
        "  treeModel.fit(X_train, y_train)\n",
        "  score1 = treeModel.score(X_train, y_train)\n",
        "  score2 = treeModel.score(X_test, y_test)\n",
        "  print(f'step {i+1}. Train score: {score1}, test score: {score2}')"
      ],
      "metadata": {
        "colab": {
          "base_uri": "https://localhost:8080/"
        },
        "id": "Eo82iq1UYrGo",
        "outputId": "ae94effb-9cfa-4d46-92c1-a1595bcf56a2"
      },
      "execution_count": 21,
      "outputs": [
        {
          "output_type": "stream",
          "name": "stdout",
          "text": [
            "step 1. Train score: 1.0, test score: 0.9300699300699301\n",
            "step 2. Train score: 1.0, test score: 0.9230769230769231\n",
            "step 3. Train score: 1.0, test score: 0.9230769230769231\n",
            "step 4. Train score: 1.0, test score: 0.9230769230769231\n",
            "step 5. Train score: 1.0, test score: 0.9230769230769231\n",
            "step 6. Train score: 1.0, test score: 0.9300699300699301\n",
            "step 7. Train score: 1.0, test score: 0.9090909090909091\n"
          ]
        }
      ]
    },
    {
      "cell_type": "code",
      "source": [],
      "metadata": {
        "id": "x8Rlh24BadJG"
      },
      "execution_count": null,
      "outputs": []
    }
  ]
}